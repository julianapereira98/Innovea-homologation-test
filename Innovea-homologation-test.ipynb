{
 "cells": [
  {
   "cell_type": "markdown",
   "id": "fae42a14",
   "metadata": {},
   "source": [
    "## Importing libraries"
   ]
  },
  {
   "cell_type": "code",
   "execution_count": 2,
   "id": "c61382e0",
   "metadata": {},
   "outputs": [],
   "source": [
    "import requests\n",
    "import json\n",
    "import pandas as pd"
   ]
  },
  {
   "cell_type": "markdown",
   "id": "b8f8270c",
   "metadata": {},
   "source": [
    "## Consuming API\n",
    "\n",
    "Consuming API https://newsapi.org/ and returning \"All articles published by the Wall Street Journal in the last 6 months, sorted by recent first\""
   ]
  },
  {
   "cell_type": "code",
   "execution_count": 7,
   "id": "82e6aad1",
   "metadata": {},
   "outputs": [
    {
     "data": {
      "text/plain": [
       "{'source': {'id': 'the-wall-street-journal',\n",
       "  'name': 'The Wall Street Journal'},\n",
       " 'author': 'wsj',\n",
       " 'title': 'Could Electric Vehicles Be Hacked?',\n",
       " 'description': 'Cybersecurity experts warn that EVs will be ripe targets for hackers unless more attention is paid to the risks',\n",
       " 'url': 'https://www.wsj.com/articles/could-electric-vehicles-be-hacked-71a543e3',\n",
       " 'urlToImage': 'https://images.wsj.net/im-723461/social',\n",
       " 'publishedAt': '2023-02-14T22:00:04Z',\n",
       " 'content': 'Could Electric Vehicles Be Hacked? Will electric cars and trucks be the next playground for hackers? Some cybersecurity experts are raising the alarm, describing disturbing scenarios of possible atta… [+2188 chars]'}"
      ]
     },
     "execution_count": 7,
     "metadata": {},
     "output_type": "execute_result"
    }
   ],
   "source": [
    "request = requests.get('https://newsapi.org/v2/everything?domains=wsj.com&apiKey=9682d47a4b8c47fe8d67e04769197216')\n",
    "response = json.loads(request.content)\n",
    "\n",
    "response['articles'][0]"
   ]
  },
  {
   "cell_type": "markdown",
   "id": "0992622c",
   "metadata": {},
   "source": [
    "## Display of articles\n",
    "\n",
    "Detailed view of all articles published by the Wall Street Journal in the last 6 months, sorted by recent first."
   ]
  },
  {
   "cell_type": "code",
   "execution_count": 12,
   "id": "9d2b03a5",
   "metadata": {
    "scrolled": true
   },
   "outputs": [
    {
     "name": "stdout",
     "output_type": "stream",
     "text": [
      "Author:  wsj\n",
      "Title:  Could Electric Vehicles Be Hacked?\n",
      "Description:  Cybersecurity experts warn that EVs will be ripe targets for hackers unless more attention is paid to the risks\n",
      "\n",
      "\n",
      "Author:  wsj\n",
      "Title:  Bolsonaro to Return to Brazil in March to Lead Opposition...\n",
      "Description:  Ex-president tells The Wall Street Journal he will defend himself against accusations he fomented postelection riots\n",
      "\n",
      "\n",
      "Author:  wsj\n",
      "Title:  As Home Sales Slow, Realtors Go Back to Other Jobs...\n",
      "Description:  Some agents who pivoted into real estate during the pandemic now struggle to make a living; ‘I need to feed my family’\n",
      "\n",
      "\n",
      "Author:  mfiguiere\n",
      "Title:  Why I’m Resigning as an FTC Commissioner\n",
      "Description:  Article URL: https://www.wsj.com/articles/why-im-resigning-from-the-ftc-commissioner-ftc-lina-khan-regulation-rule-violation-antitrust-339f115d\n",
      "Comments URL: https://news.ycombinator.com/item?id=34795184\n",
      "Points: 10\n",
      "# Comments: 0\n",
      "\n",
      "\n",
      "Author:  wsj\n",
      "Title:  Suspected Iran Weapons Seized by Navy May Go to Ukraine...\n",
      "Description:  U.S. officials are considering sending a cache of arms to help Kyiv in its battle against Russia\n",
      "\n",
      "\n",
      "Author:  wsj\n",
      "Title:  Aaron Rodgers Going on Darkness Retreat. What Is That?\n",
      "Description:  The Green Bay Packers quarterback hopes isolation in complete darkness for days will help him decide his next career move\n",
      "\n",
      "\n",
      "Author:  Dean Seal\n",
      "Title:  Coca-Cola Earnings Drop as Stronger Dollar Weighs\n",
      "Description:  Fourth-quarter sales rose 7% on higher prices, but beverage maker expects sales growth to slow\n",
      "\n",
      "\n",
      "Author:  Benjamin Katz\n",
      "Title:  Air India Places Airbus Order in First Half of Biggest-Ever Aircraft Deal\n",
      "Description:  Air India Places Airbus Order in First Half of Biggest-Ever Aircraft Dealwsj.com\n",
      "\n",
      "\n",
      "Author:  Sarah Nassauer\n",
      "Title:  Walmart to Close Three Tech Hubs, Tells Tech Staff to Return to Offices\n",
      "Description:  Retail giant is closing offices in Austin, Portland and Carlsbad and telling hundreds of staff they must relocate to keep their jobs\n",
      "\n",
      "\n",
      "Author:  wsj\n",
      "Title:  NEW UFO TASK FORCE\n",
      "Description:  U.S. officials are at a loss to explain what three airborne objects shot down over the weekend were\n",
      "\n",
      "\n"
     ]
    }
   ],
   "source": [
    "for a in response['articles'][:10]:\n",
    "    print('Author: ', a['author'])\n",
    "    print('Title: ', a['title'])\n",
    "    print('Description: ', a['description'])\n",
    "    print('\\n')\n"
   ]
  },
  {
   "cell_type": "markdown",
   "id": "300503f3",
   "metadata": {},
   "source": [
    "## Articles dataframe\n",
    "\n",
    "Visualization in a dataframe of all articles published by the Wall Street Journal in the last 6 months, sorted by recent first."
   ]
  },
  {
   "cell_type": "code",
   "execution_count": 11,
   "id": "91b94edd",
   "metadata": {},
   "outputs": [
    {
     "data": {
      "text/html": [
       "<div>\n",
       "<style scoped>\n",
       "    .dataframe tbody tr th:only-of-type {\n",
       "        vertical-align: middle;\n",
       "    }\n",
       "\n",
       "    .dataframe tbody tr th {\n",
       "        vertical-align: top;\n",
       "    }\n",
       "\n",
       "    .dataframe thead th {\n",
       "        text-align: right;\n",
       "    }\n",
       "</style>\n",
       "<table border=\"1\" class=\"dataframe\">\n",
       "  <thead>\n",
       "    <tr style=\"text-align: right;\">\n",
       "      <th></th>\n",
       "      <th>author</th>\n",
       "      <th>title</th>\n",
       "      <th>description</th>\n",
       "    </tr>\n",
       "  </thead>\n",
       "  <tbody>\n",
       "    <tr>\n",
       "      <th>0</th>\n",
       "      <td>wsj</td>\n",
       "      <td>Could Electric Vehicles Be Hacked?</td>\n",
       "      <td>Cybersecurity experts warn that EVs will be ri...</td>\n",
       "    </tr>\n",
       "    <tr>\n",
       "      <th>1</th>\n",
       "      <td>wsj</td>\n",
       "      <td>Bolsonaro to Return to Brazil in March to Lead...</td>\n",
       "      <td>Ex-president tells The Wall Street Journal he ...</td>\n",
       "    </tr>\n",
       "    <tr>\n",
       "      <th>2</th>\n",
       "      <td>wsj</td>\n",
       "      <td>As Home Sales Slow, Realtors Go Back to Other ...</td>\n",
       "      <td>Some agents who pivoted into real estate durin...</td>\n",
       "    </tr>\n",
       "    <tr>\n",
       "      <th>3</th>\n",
       "      <td>mfiguiere</td>\n",
       "      <td>Why I’m Resigning as an FTC Commissioner</td>\n",
       "      <td>Article URL: https://www.wsj.com/articles/why-...</td>\n",
       "    </tr>\n",
       "    <tr>\n",
       "      <th>4</th>\n",
       "      <td>wsj</td>\n",
       "      <td>Suspected Iran Weapons Seized by Navy May Go t...</td>\n",
       "      <td>U.S. officials are considering sending a cache...</td>\n",
       "    </tr>\n",
       "    <tr>\n",
       "      <th>5</th>\n",
       "      <td>wsj</td>\n",
       "      <td>Aaron Rodgers Going on Darkness Retreat. What ...</td>\n",
       "      <td>The Green Bay Packers quarterback hopes isolat...</td>\n",
       "    </tr>\n",
       "    <tr>\n",
       "      <th>6</th>\n",
       "      <td>Dean Seal</td>\n",
       "      <td>Coca-Cola Earnings Drop as Stronger Dollar Weighs</td>\n",
       "      <td>Fourth-quarter sales rose 7% on higher prices,...</td>\n",
       "    </tr>\n",
       "    <tr>\n",
       "      <th>7</th>\n",
       "      <td>Benjamin Katz</td>\n",
       "      <td>Air India Places Airbus Order in First Half of...</td>\n",
       "      <td>Air India Places Airbus Order in First Half of...</td>\n",
       "    </tr>\n",
       "    <tr>\n",
       "      <th>8</th>\n",
       "      <td>Sarah Nassauer</td>\n",
       "      <td>Walmart to Close Three Tech Hubs, Tells Tech S...</td>\n",
       "      <td>Retail giant is closing offices in Austin, Por...</td>\n",
       "    </tr>\n",
       "    <tr>\n",
       "      <th>9</th>\n",
       "      <td>wsj</td>\n",
       "      <td>NEW UFO TASK FORCE</td>\n",
       "      <td>U.S. officials are at a loss to explain what t...</td>\n",
       "    </tr>\n",
       "  </tbody>\n",
       "</table>\n",
       "</div>"
      ],
      "text/plain": [
       "           author                                              title  \\\n",
       "0             wsj                 Could Electric Vehicles Be Hacked?   \n",
       "1             wsj  Bolsonaro to Return to Brazil in March to Lead...   \n",
       "2             wsj  As Home Sales Slow, Realtors Go Back to Other ...   \n",
       "3       mfiguiere           Why I’m Resigning as an FTC Commissioner   \n",
       "4             wsj  Suspected Iran Weapons Seized by Navy May Go t...   \n",
       "5             wsj  Aaron Rodgers Going on Darkness Retreat. What ...   \n",
       "6       Dean Seal  Coca-Cola Earnings Drop as Stronger Dollar Weighs   \n",
       "7   Benjamin Katz  Air India Places Airbus Order in First Half of...   \n",
       "8  Sarah Nassauer  Walmart to Close Three Tech Hubs, Tells Tech S...   \n",
       "9             wsj                                 NEW UFO TASK FORCE   \n",
       "\n",
       "                                         description  \n",
       "0  Cybersecurity experts warn that EVs will be ri...  \n",
       "1  Ex-president tells The Wall Street Journal he ...  \n",
       "2  Some agents who pivoted into real estate durin...  \n",
       "3  Article URL: https://www.wsj.com/articles/why-...  \n",
       "4  U.S. officials are considering sending a cache...  \n",
       "5  The Green Bay Packers quarterback hopes isolat...  \n",
       "6  Fourth-quarter sales rose 7% on higher prices,...  \n",
       "7  Air India Places Airbus Order in First Half of...  \n",
       "8  Retail giant is closing offices in Austin, Por...  \n",
       "9  U.S. officials are at a loss to explain what t...  "
      ]
     },
     "execution_count": 11,
     "metadata": {},
     "output_type": "execute_result"
    }
   ],
   "source": [
    "df = pd.DataFrame(data=response['articles'], columns=['author', 'title', 'description'])\n",
    "pd.set_option('display.max_rows', None)\n",
    "df[:10]"
   ]
  }
 ],
 "metadata": {
  "kernelspec": {
   "display_name": "Python 3",
   "language": "python",
   "name": "python3"
  },
  "language_info": {
   "codemirror_mode": {
    "name": "ipython",
    "version": 3
   },
   "file_extension": ".py",
   "mimetype": "text/x-python",
   "name": "python",
   "nbconvert_exporter": "python",
   "pygments_lexer": "ipython3",
   "version": "3.10.7"
  },
  "vscode": {
   "interpreter": {
    "hash": "916dbcbb3f70747c44a77c7bcd40155683ae19c65e1c03b4aa3499c5328201f1"
   }
  }
 },
 "nbformat": 4,
 "nbformat_minor": 5
}
